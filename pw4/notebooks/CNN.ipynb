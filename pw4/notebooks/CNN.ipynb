{
  "cells": [
    {
      "cell_type": "markdown",
      "metadata": {
        "id": "HkLUJVa1bfNW"
      },
      "source": [
        "# Convolutional Neural Networks\n",
        "This notebook will guide you through the use of the `keras` package to train convolutional neural networks for handwritten digits classification. You are going to use the `mnist` dataset from LeCun et al. 1998."
      ]
    },
    {
      "cell_type": "markdown",
      "metadata": {
        "id": "SjQUQygFbfNb"
      },
      "source": [
        "## Loading the packages"
      ]
    },
    {
      "cell_type": "code",
      "execution_count": 1,
      "metadata": {
        "id": "h7O8MewabfNj",
        "outputId": "8d0f564f-7da3-41e5-cde2-5e7e78cfecf3"
      },
      "outputs": [
        {
          "name": "stdout",
          "output_type": "stream",
          "text": [
            "Requirement already satisfied: tf-nightly in /opt/homebrew/lib/python3.11/site-packages (2.14.0.dev20230504)\n",
            "Requirement already satisfied: tf-nightly-macos==2.14.0-dev20230504 in /opt/homebrew/lib/python3.11/site-packages (from tf-nightly) (2.14.0.dev20230504)\n",
            "Requirement already satisfied: absl-py>=1.0.0 in /opt/homebrew/lib/python3.11/site-packages (from tf-nightly-macos==2.14.0-dev20230504->tf-nightly) (1.4.0)\n",
            "Requirement already satisfied: astunparse>=1.6.0 in /opt/homebrew/lib/python3.11/site-packages (from tf-nightly-macos==2.14.0-dev20230504->tf-nightly) (1.6.3)\n",
            "Requirement already satisfied: flatbuffers>=23.1.21 in /opt/homebrew/lib/python3.11/site-packages (from tf-nightly-macos==2.14.0-dev20230504->tf-nightly) (23.3.3)\n",
            "Requirement already satisfied: gast<=0.4.0,>=0.2.1 in /opt/homebrew/lib/python3.11/site-packages (from tf-nightly-macos==2.14.0-dev20230504->tf-nightly) (0.4.0)\n",
            "Requirement already satisfied: google-pasta>=0.1.1 in /opt/homebrew/lib/python3.11/site-packages (from tf-nightly-macos==2.14.0-dev20230504->tf-nightly) (0.2.0)\n",
            "Requirement already satisfied: h5py>=2.9.0 in /opt/homebrew/lib/python3.11/site-packages (from tf-nightly-macos==2.14.0-dev20230504->tf-nightly) (3.8.0)\n",
            "Requirement already satisfied: libclang>=13.0.0 in /opt/homebrew/lib/python3.11/site-packages (from tf-nightly-macos==2.14.0-dev20230504->tf-nightly) (16.0.0)\n",
            "Requirement already satisfied: numpy>=1.22 in /opt/homebrew/lib/python3.11/site-packages (from tf-nightly-macos==2.14.0-dev20230504->tf-nightly) (1.24.2)\n",
            "Requirement already satisfied: opt-einsum>=2.3.2 in /opt/homebrew/lib/python3.11/site-packages (from tf-nightly-macos==2.14.0-dev20230504->tf-nightly) (3.3.0)\n",
            "Requirement already satisfied: packaging in /opt/homebrew/lib/python3.11/site-packages (from tf-nightly-macos==2.14.0-dev20230504->tf-nightly) (23.0)\n",
            "Requirement already satisfied: protobuf!=4.21.0,!=4.21.1,!=4.21.2,!=4.21.3,!=4.21.4,!=4.21.5,<5.0.0dev,>=3.20.3 in /opt/homebrew/lib/python3.11/site-packages (from tf-nightly-macos==2.14.0-dev20230504->tf-nightly) (4.21.12)\n",
            "Requirement already satisfied: setuptools in /opt/homebrew/lib/python3.11/site-packages (from tf-nightly-macos==2.14.0-dev20230504->tf-nightly) (67.6.1)\n",
            "Requirement already satisfied: six>=1.12.0 in /opt/homebrew/lib/python3.11/site-packages (from tf-nightly-macos==2.14.0-dev20230504->tf-nightly) (1.16.0)\n",
            "Requirement already satisfied: termcolor>=1.1.0 in /opt/homebrew/lib/python3.11/site-packages (from tf-nightly-macos==2.14.0-dev20230504->tf-nightly) (2.3.0)\n",
            "Requirement already satisfied: typing-extensions>=3.6.6 in /opt/homebrew/lib/python3.11/site-packages (from tf-nightly-macos==2.14.0-dev20230504->tf-nightly) (4.5.0)\n",
            "Requirement already satisfied: wrapt<1.15,>=1.11.0 in /opt/homebrew/lib/python3.11/site-packages (from tf-nightly-macos==2.14.0-dev20230504->tf-nightly) (1.14.1)\n",
            "Requirement already satisfied: grpcio<2.0,>=1.24.3 in /opt/homebrew/lib/python3.11/site-packages (from tf-nightly-macos==2.14.0-dev20230504->tf-nightly) (1.54.0)\n",
            "Requirement already satisfied: tensorboard<2.13,>=2.12 in /opt/homebrew/lib/python3.11/site-packages (from tf-nightly-macos==2.14.0-dev20230504->tf-nightly) (2.12.3)\n",
            "Requirement already satisfied: tensorflow-estimator<2.13,>=2.12.0rc0 in /opt/homebrew/lib/python3.11/site-packages (from tf-nightly-macos==2.14.0-dev20230504->tf-nightly) (2.12.0)\n",
            "Requirement already satisfied: keras<2.13,>=2.12.0rc0 in /opt/homebrew/lib/python3.11/site-packages (from tf-nightly-macos==2.14.0-dev20230504->tf-nightly) (2.12.0)\n",
            "Requirement already satisfied: wheel<1.0,>=0.23.0 in /opt/homebrew/lib/python3.11/site-packages (from astunparse>=1.6.0->tf-nightly-macos==2.14.0-dev20230504->tf-nightly) (0.40.0)\n",
            "Requirement already satisfied: google-auth<3,>=1.6.3 in /opt/homebrew/lib/python3.11/site-packages (from tensorboard<2.13,>=2.12->tf-nightly-macos==2.14.0-dev20230504->tf-nightly) (2.17.3)\n",
            "Requirement already satisfied: google-auth-oauthlib<1.1,>=0.5 in /opt/homebrew/lib/python3.11/site-packages (from tensorboard<2.13,>=2.12->tf-nightly-macos==2.14.0-dev20230504->tf-nightly) (1.0.0)\n",
            "Requirement already satisfied: markdown>=2.6.8 in /opt/homebrew/lib/python3.11/site-packages (from tensorboard<2.13,>=2.12->tf-nightly-macos==2.14.0-dev20230504->tf-nightly) (3.4.3)\n",
            "Requirement already satisfied: requests<3,>=2.21.0 in /opt/homebrew/lib/python3.11/site-packages (from tensorboard<2.13,>=2.12->tf-nightly-macos==2.14.0-dev20230504->tf-nightly) (2.28.1)\n",
            "Requirement already satisfied: tensorboard-data-server<0.8.0,>=0.7.0 in /opt/homebrew/lib/python3.11/site-packages (from tensorboard<2.13,>=2.12->tf-nightly-macos==2.14.0-dev20230504->tf-nightly) (0.7.0)\n",
            "Requirement already satisfied: werkzeug>=1.0.1 in /opt/homebrew/lib/python3.11/site-packages (from tensorboard<2.13,>=2.12->tf-nightly-macos==2.14.0-dev20230504->tf-nightly) (2.3.3)\n",
            "Requirement already satisfied: cachetools<6.0,>=2.0.0 in /opt/homebrew/lib/python3.11/site-packages (from google-auth<3,>=1.6.3->tensorboard<2.13,>=2.12->tf-nightly-macos==2.14.0-dev20230504->tf-nightly) (5.3.0)\n",
            "Requirement already satisfied: pyasn1-modules>=0.2.1 in /opt/homebrew/lib/python3.11/site-packages (from google-auth<3,>=1.6.3->tensorboard<2.13,>=2.12->tf-nightly-macos==2.14.0-dev20230504->tf-nightly) (0.3.0)\n",
            "Requirement already satisfied: rsa<5,>=3.1.4 in /opt/homebrew/lib/python3.11/site-packages (from google-auth<3,>=1.6.3->tensorboard<2.13,>=2.12->tf-nightly-macos==2.14.0-dev20230504->tf-nightly) (4.9)\n",
            "Requirement already satisfied: requests-oauthlib>=0.7.0 in /opt/homebrew/lib/python3.11/site-packages (from google-auth-oauthlib<1.1,>=0.5->tensorboard<2.13,>=2.12->tf-nightly-macos==2.14.0-dev20230504->tf-nightly) (1.3.1)\n",
            "Requirement already satisfied: charset-normalizer<3,>=2 in /opt/homebrew/lib/python3.11/site-packages (from requests<3,>=2.21.0->tensorboard<2.13,>=2.12->tf-nightly-macos==2.14.0-dev20230504->tf-nightly) (2.1.1)\n",
            "Requirement already satisfied: idna<4,>=2.5 in /opt/homebrew/lib/python3.11/site-packages (from requests<3,>=2.21.0->tensorboard<2.13,>=2.12->tf-nightly-macos==2.14.0-dev20230504->tf-nightly) (3.4)\n",
            "Requirement already satisfied: urllib3<1.27,>=1.21.1 in /opt/homebrew/lib/python3.11/site-packages (from requests<3,>=2.21.0->tensorboard<2.13,>=2.12->tf-nightly-macos==2.14.0-dev20230504->tf-nightly) (1.26.14)\n",
            "Requirement already satisfied: certifi>=2017.4.17 in /opt/homebrew/lib/python3.11/site-packages (from requests<3,>=2.21.0->tensorboard<2.13,>=2.12->tf-nightly-macos==2.14.0-dev20230504->tf-nightly) (2022.12.7)\n",
            "Requirement already satisfied: MarkupSafe>=2.1.1 in /opt/homebrew/lib/python3.11/site-packages (from werkzeug>=1.0.1->tensorboard<2.13,>=2.12->tf-nightly-macos==2.14.0-dev20230504->tf-nightly) (2.1.2)\n",
            "Requirement already satisfied: pyasn1<0.6.0,>=0.4.6 in /opt/homebrew/lib/python3.11/site-packages (from pyasn1-modules>=0.2.1->google-auth<3,>=1.6.3->tensorboard<2.13,>=2.12->tf-nightly-macos==2.14.0-dev20230504->tf-nightly) (0.5.0)\n",
            "Requirement already satisfied: oauthlib>=3.0.0 in /opt/homebrew/lib/python3.11/site-packages (from requests-oauthlib>=0.7.0->google-auth-oauthlib<1.1,>=0.5->tensorboard<2.13,>=2.12->tf-nightly-macos==2.14.0-dev20230504->tf-nightly) (3.2.2)\n",
            "Note: you may need to restart the kernel to use updated packages.\n",
            "Requirement already satisfied: keras in /opt/homebrew/lib/python3.11/site-packages (2.12.0)\n",
            "Note: you may need to restart the kernel to use updated packages.\n"
          ]
        }
      ],
      "source": [
        "%pip install tf-nightly --upgrade\n",
        "%pip install keras --upgrade\n",
        "\n",
        "import numpy as np\n",
        "from matplotlib import pyplot as pl\n",
        "\n",
        "from keras.datasets import mnist\n",
        "from keras.models import Model\n",
        "from keras.layers.core import Dense, Dropout, Flatten\n",
        "from tensorflow.keras.optimizers import RMSprop\n",
        "from keras.utils import np_utils\n",
        "from keras.layers.convolutional import Conv2D, MaxPooling2D\n",
        "from keras.layers import Input\n",
        "from sklearn import metrics as me\n",
        "from scipy import stats\n",
        "\n",
        "%matplotlib inline"
      ]
    },
    {
      "cell_type": "markdown",
      "metadata": {
        "id": "vbttXt8SbfOH"
      },
      "source": [
        "First, create some useful functions"
      ]
    },
    {
      "cell_type": "code",
      "execution_count": 1,
      "metadata": {
        "id": "jAR9jPgybfOO"
      },
      "outputs": [],
      "source": [
        "def build_grid_of_images(array):\n",
        "    assert len(array.shape) == 3\n",
        "    dim_0 = np.sqrt(array.shape[0])\n",
        "    assert dim_0.is_integer()\n",
        "    \n",
        "    temp_out = np.reshape(array, (dim_0, dim_0, array.shape[1], array.shape[2]))\n",
        "    temp_out = np.rollaxis(temp_out, 1, 3)\n",
        "    return np.reshape(temp_out, (dim_0*array.shape[1], dim_0*array.shape[2]))\n",
        "\n",
        "def plot_conv_layer_output(temp_out, title):\n",
        "    temp_to_plot = build_grid_of_images(temp_out)\n",
        "    pl.imshow(temp_to_plot, interpolation='nearest', cmap=pl.get_cmap('Greys'))\n",
        "    ax = pl.gca()\n",
        "    ax.set_xticks(np.arange(-0.5, temp_to_plot.shape[0]+0.5, temp_out.shape[1]))    \n",
        "    ax.set_yticks(np.arange(-0.5, temp_to_plot.shape[0]+0.5, temp_out.shape[2]))\n",
        "    pl.grid()\n",
        "    pl.tick_params(axis='both', which='both', bottom='off', top='off', left='off', right='off', labelbottom='off', labelleft='off')\n",
        "    pl.title(title)\n",
        "\n",
        "def plot_dense_layer_output(temp_out, title):\n",
        "    pl.bar(np.arange(temp_out.shape[1])-0.4, temp_out[0,:])\n",
        "    pl.xlim(-0.5, temp_out.shape[1])\n",
        "    pl.grid()\n",
        "    pl.title(title)"
      ]
    },
    {
      "cell_type": "markdown",
      "metadata": {
        "id": "3fVOW4jGbfOb"
      },
      "source": [
        "Load the `mnist` dataset and normalize in the range [0, 1]"
      ]
    },
    {
      "cell_type": "code",
      "execution_count": 3,
      "metadata": {
        "colab": {
          "base_uri": "https://localhost:8080/",
          "height": 85
        },
        "id": "2H2K3S4MbfOf",
        "outputId": "87306b90-6068-49ae-d1c2-5d5ea69927e2"
      },
      "outputs": [
        {
          "name": "stdout",
          "output_type": "stream",
          "text": [
            "60000 train samples\n",
            "10000 test samples\n"
          ]
        }
      ],
      "source": [
        "(X_train, y_train), (X_test, y_test) = mnist.load_data()\n",
        "\n",
        "n_train, height, width = X_train.shape\n",
        "n_test, _, _ = X_test.shape\n",
        "\n",
        "X_train = X_train.reshape(n_train, height, width, 1).astype('float32')\n",
        "X_test = X_test.reshape(n_test, height, width, 1).astype('float32')\n",
        "\n",
        "X_train /= 255.0\n",
        "X_test /= 255.0\n",
        "\n",
        "n_classes = 10\n",
        "\n",
        "print(n_train, 'train samples')\n",
        "print(n_test, 'test samples')\n",
        "\n",
        "# convert class vectors to binary class matrices\n",
        "Y_train = np_utils.to_categorical(y_train, n_classes)\n",
        "Y_test = np_utils.to_categorical(y_test, n_classes)"
      ]
    },
    {
      "cell_type": "code",
      "execution_count": 4,
      "metadata": {
        "id": "ub_ez1PpCeEA",
        "outputId": "4a79d1b7-27a3-46d1-da36-9bea92805880"
      },
      "outputs": [
        {
          "name": "stdout",
          "output_type": "stream",
          "text": [
            "X_train.shape =  (60000, 28, 28, 1)\n",
            "Y_train.shape =  (60000, 10)\n",
            "X_test.shape =  (10000, 28, 28, 1)\n",
            "Y_test.shape =  (10000, 10)\n"
          ]
        }
      ],
      "source": [
        "print('X_train.shape = ', X_train.shape)\n",
        "print('Y_train.shape = ', Y_train.shape)\n",
        "print('X_test.shape = ', X_test.shape)\n",
        "print('Y_test.shape = ', Y_test.shape)"
      ]
    },
    {
      "cell_type": "markdown",
      "metadata": {
        "id": "2B-WNiQUbfOq"
      },
      "source": [
        "Create the CNN and show its architecture"
      ]
    },
    {
      "cell_type": "code",
      "execution_count": 5,
      "metadata": {
        "colab": {
          "base_uri": "https://localhost:8080/",
          "height": 493
        },
        "id": "yhOscSNPbfOt",
        "outputId": "6e1a0da0-e48f-4fd1-eb5c-dadacdad548a"
      },
      "outputs": [
        {
          "name": "stdout",
          "output_type": "stream",
          "text": [
            "Model: \"model\"\n",
            "_________________________________________________________________\n",
            " Layer (type)                Output Shape              Param #   \n",
            "=================================================================\n",
            " l0 (InputLayer)             [(None, 28, 28, 1)]       0         \n",
            "                                                                 \n",
            " l1 (Conv2D)                 (None, 28, 28, 9)         234       \n",
            "                                                                 \n",
            " l1_mp (MaxPooling2D)        (None, 14, 14, 9)         0         \n",
            "                                                                 \n",
            " l2 (Conv2D)                 (None, 14, 14, 9)         2034      \n",
            "                                                                 \n",
            " l2_mp (MaxPooling2D)        (None, 7, 7, 9)           0         \n",
            "                                                                 \n",
            " l3 (Conv2D)                 (None, 7, 7, 16)          1312      \n",
            "                                                                 \n",
            " l3_mp (MaxPooling2D)        (None, 3, 3, 16)          0         \n",
            "                                                                 \n",
            " flat (Flatten)              (None, 144)               0         \n",
            "                                                                 \n",
            " l4 (Dense)                  (None, 25)                3625      \n",
            "                                                                 \n",
            " l5 (Dense)                  (None, 10)                260       \n",
            "                                                                 \n",
            "=================================================================\n",
            "Total params: 7,465\n",
            "Trainable params: 7,465\n",
            "Non-trainable params: 0\n",
            "_________________________________________________________________\n"
          ]
        }
      ],
      "source": [
        "l0 = Input(shape=(height, width, 1), name='l0')\n",
        "\n",
        "l1 = Conv2D(9, (5, 5), padding='same', activation='relu', name='l1')(l0)\n",
        "l1_mp = MaxPooling2D(pool_size=(2, 2), name='l1_mp')(l1)\n",
        "\n",
        "l2 = Conv2D(9, (5, 5), padding='same', activation='relu', name='l2')(l1_mp)\n",
        "l2_mp = MaxPooling2D(pool_size=(2, 2), name='l2_mp')(l2)\n",
        "\n",
        "l3 = Conv2D(16, (3, 3), padding='same', activation='relu', name='l3')(l2_mp)\n",
        "l3_mp = MaxPooling2D(pool_size=(2, 2), name='l3_mp')(l3)\n",
        "\n",
        "flat = Flatten(name='flat')(l3_mp)\n",
        "\n",
        "l4 = Dense(25, activation='relu', name='l4')(flat)\n",
        "\n",
        "l5 = Dense(n_classes, activation='softmax', name='l5')(l4)\n",
        "\n",
        "model = Model(inputs=l0, outputs=l5)\n",
        "model.summary()"
      ]
    },
    {
      "cell_type": "markdown",
      "metadata": {
        "id": "sP_cugPCbfO6"
      },
      "source": [
        "Define some constants and train de CNN"
      ]
    },
    {
      "cell_type": "code",
      "execution_count": 6,
      "metadata": {
        "colab": {
          "base_uri": "https://localhost:8080/",
          "height": 374
        },
        "id": "l8eKqD80bfPB",
        "outputId": "bb20620f-70c6-4330-8c5f-d67cb5176464"
      },
      "outputs": [
        {
          "name": "stderr",
          "output_type": "stream",
          "text": [
            "WARNING:absl:At this time, the v2.11+ optimizer `tf.keras.optimizers.RMSprop` runs slowly on M1/M2 Macs, please use the legacy Keras optimizer instead, located at `tf.keras.optimizers.legacy.RMSprop`.\n",
            "WARNING:absl:There is a known slowdown when using v2.11+ Keras optimizers on M1/M2 Macs. Falling back to the legacy Keras optimizer, i.e., `tf.keras.optimizers.legacy.RMSprop`.\n"
          ]
        },
        {
          "name": "stdout",
          "output_type": "stream",
          "text": [
            "Epoch 1/10\n",
            "422/422 [==============================] - 6s 14ms/step - loss: 0.5631 - accuracy: 0.8224 - val_loss: 0.1808 - val_accuracy: 0.9463\n",
            "Epoch 2/10\n",
            "422/422 [==============================] - 6s 15ms/step - loss: 0.1679 - accuracy: 0.9484 - val_loss: 0.1004 - val_accuracy: 0.9678\n",
            "Epoch 3/10\n",
            "422/422 [==============================] - 6s 14ms/step - loss: 0.1141 - accuracy: 0.9649 - val_loss: 0.0878 - val_accuracy: 0.9723\n",
            "Epoch 4/10\n",
            "422/422 [==============================] - 6s 15ms/step - loss: 0.0893 - accuracy: 0.9728 - val_loss: 0.0764 - val_accuracy: 0.9773\n",
            "Epoch 5/10\n",
            "422/422 [==============================] - 6s 14ms/step - loss: 0.0757 - accuracy: 0.9767 - val_loss: 0.0649 - val_accuracy: 0.9827\n",
            "Epoch 6/10\n",
            "422/422 [==============================] - 6s 15ms/step - loss: 0.0645 - accuracy: 0.9798 - val_loss: 0.0610 - val_accuracy: 0.9847\n",
            "Epoch 7/10\n",
            "422/422 [==============================] - 6s 14ms/step - loss: 0.0575 - accuracy: 0.9821 - val_loss: 0.0639 - val_accuracy: 0.9823\n",
            "Epoch 8/10\n",
            "422/422 [==============================] - 6s 14ms/step - loss: 0.0516 - accuracy: 0.9837 - val_loss: 0.0582 - val_accuracy: 0.9832\n",
            "Epoch 9/10\n",
            "422/422 [==============================] - 6s 14ms/step - loss: 0.0473 - accuracy: 0.9847 - val_loss: 0.0678 - val_accuracy: 0.9838\n",
            "Epoch 10/10\n",
            "422/422 [==============================] - 6s 14ms/step - loss: 0.0439 - accuracy: 0.9859 - val_loss: 0.0486 - val_accuracy: 0.9872\n"
          ]
        }
      ],
      "source": [
        "batch_size = 128\n",
        "n_epoch = 10\n",
        "\n",
        "model.compile(loss='categorical_crossentropy', optimizer=RMSprop(), metrics=['accuracy'])\n",
        "\n",
        "history = model.fit(X_train, Y_train, batch_size=batch_size, epochs=n_epoch, verbose=1, validation_split=0.1)"
      ]
    },
    {
      "cell_type": "markdown",
      "metadata": {
        "id": "IBX2Tc_0bfPK"
      },
      "source": [
        "Show the performance of the model"
      ]
    },
    {
      "cell_type": "code",
      "execution_count": 7,
      "metadata": {
        "colab": {
          "base_uri": "https://localhost:8080/",
          "height": 299
        },
        "id": "WeaMjl-EbfPS",
        "outputId": "e219b778-8eb2-4fd9-a2f5-baaa3d936a3f"
      },
      "outputs": [
        {
          "name": "stdout",
          "output_type": "stream",
          "text": [
            "Test score: 0.03831328824162483\n",
            "Test accuracy: 0.9861000180244446\n"
          ]
        },
        {
          "data": {
            "image/png": "[encoded data removed]",
            "text/plain": [
              "<Figure size 640x480 with 1 Axes>"
            ]
          },
          "metadata": {},
          "output_type": "display_data"
        }
      ],
      "source": [
        "pl.plot(history.history['loss'], label='Training')\n",
        "pl.plot(history.history['val_loss'], label='Testing')\n",
        "pl.legend()\n",
        "pl.grid()\n",
        "\n",
        "score = model.evaluate(X_test, Y_test, verbose=0)\n",
        "print('Test score:', score[0])\n",
        "print('Test accuracy:', score[1])"
      ]
    },
    {
      "cell_type": "markdown",
      "metadata": {
        "id": "rXNZ2ZHSbfPm"
      },
      "source": [
        "Confusion matrix"
      ]
    },
    {
      "cell_type": "code",
      "execution_count": 8,
      "metadata": {
        "colab": {
          "base_uri": "https://localhost:8080/",
          "height": 187
        },
        "id": "XfgRipFebfPm",
        "outputId": "b435b340-a409-423f-bd5a-d989f6f76a8a"
      },
      "outputs": [
        {
          "name": "stdout",
          "output_type": "stream",
          "text": [
            "313/313 [==============================] - 1s 2ms/step\n",
            "pred.shape =  (10000, 10)\n"
          ]
        },
        {
          "data": {
            "text/plain": [
              "array([[ 970,    0,    0,    1,    0,    2,    2,    1,    2,    2],\n",
              "       [   0, 1128,    2,    1,    0,    0,    2,    1,    1,    0],\n",
              "       [   4,    4, 1010,    4,    4,    0,    1,    2,    3,    0],\n",
              "       [   0,    0,    0, 1001,    0,    7,    0,    0,    2,    0],\n",
              "       [   0,    0,    1,    0,  972,    0,    1,    0,    2,    6],\n",
              "       [   0,    0,    0,    5,    1,  884,    0,    0,    1,    1],\n",
              "       [   1,    4,    0,    0,    5,    6,  941,    0,    1,    0],\n",
              "       [   0,    2,   11,    4,    1,    0,    0, 1004,    1,    5],\n",
              "       [   0,    0,    1,    3,    0,    1,    1,    0,  965,    3],\n",
              "       [   1,    1,    0,    2,    7,    5,    0,    3,    4,  986]])"
            ]
          },
          "execution_count": 8,
          "metadata": {},
          "output_type": "execute_result"
        }
      ],
      "source": [
        "pred = model.predict(X_test)\n",
        "print('pred.shape = ', pred.shape)\n",
        "pred = np.argmax(pred, axis=-1)\n",
        "me.confusion_matrix(y_test, pred)"
      ]
    },
    {
      "cell_type": "code",
      "execution_count": null,
      "metadata": {
        "id": "gpwYVv3kCeEA"
      },
      "outputs": [],
      "source": []
    }
  ],
  "metadata": {
    "accelerator": "GPU",
    "colab": {
      "provenance": []
    },
    "kernelspec": {
      "display_name": "Python 3 (ipykernel)",
      "language": "python",
      "name": "python3"
    },
    "language_info": {
      "codemirror_mode": {
        "name": "ipython",
        "version": 3
      },
      "file_extension": ".py",
      "mimetype": "text/x-python",
      "name": "python",
      "nbconvert_exporter": "python",
      "pygments_lexer": "ipython3",
      "version": "3.11.3"
    }
  },
  "nbformat": 4,
  "nbformat_minor": 0
}
